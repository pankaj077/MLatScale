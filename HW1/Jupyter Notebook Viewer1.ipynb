








<!DOCTYPE html>
<html lang="en">

<head>
  <meta charset="utf-8">
  <title>Jupyter Notebook Viewer</title>
  <meta name="viewport" content="width=device-width, initial-scale=1.0">
  <meta name="description" content="">
  <meta name="author" content="">
  
  <meta name="robots" content="noindex,nofollow">
  

  <!--NEW RELIC Start Perf Measurement-->
  
  <!--NREND-->

  <!-- Le styles -->
  <script type="text/javascript">
//<![CDATA[
try{if (!window.CloudFlare) {var CloudFlare=[{verbose:0,p:0,byc:0,owlid:"cf",bag2:1,mirage2:0,oracle:0,paths:{cloudflare:"/cdn-cgi/nexp/dok3v=1613a3a185/"},atok:"b96a0a77358d73b1826f0c48981cf53f",petok:"53c6e0b9de2d2d73be3cf71a34d325103fc768b5-1472536335-1800",zone:"jupyter.org",rocket:"0",apps:{"ga_key":{"ua":"UA-52617120-5","ga_bs":"2"}},sha2test:0}];!function(a,b){a=document.createElement("script"),b=document.getElementsByTagName("script")[0],a.async=!0,a.src="//ajax.cloudflare.com/cdn-cgi/nexp/dok3v=0489c402f5/cloudflare.min.js",b.parentNode.insertBefore(a,b)}()}}catch(e){};
//]]>
</script>
<link href="/static/build/styles.css" rel="stylesheet">

  <!-- Le HTML5 shim, for IE6-8 support of HTML5 elements -->
  <!--[if lt IE 9]>
    <script src="http://html5shim.googlecode.com/svn/trunk/html5.js"></script>
  <![endif]-->

  <!-- Le fav and touch icons -->
  <link rel="shortcut icon" href="/static/ico/ipynb_icon_16x16.png">
  <link rel="apple-touch-icon-precomposed" sizes="144x144"
        href="/static/ico/apple-touch-icon-144-precomposed.png">
  <link rel="apple-touch-icon-precomposed" sizes="114x114"
        href="/static/ico/apple-touch-icon-114-precomposed.png">
  <link rel="apple-touch-icon-precomposed" sizes="72x72"
        href="/static/ico/apple-touch-icon-72-precomposed.png">
  <link rel="apple-touch-icon-precomposed"
        href="/static/ico/apple-touch-icon-57-precomposed.png">
  
  

  

  
  <meta name="twitter:card" content="summary">
  <meta name="twitter:title" content="Notebook on nbviewer">
  <meta name="twitter:description" content="Check out this Jupyter notebook!">

  
  <meta name="twitter:domain" content="nbviewer.ipython.org">
  <meta name="twitter:image:src" content="http://ipython.org/ipython-doc/dev/_images/ipynb_icon_128x128.png">

  
    <link href="/static/build/notebook.css" rel="stylesheet">
  

  

  
    <script src="https://cdn.mathjax.org/mathjax/latest/MathJax.js?config=TeX-AMS_HTML" type="text/javascript">
    </script>
    <script type="text/javascript">
      init_mathjax = function() {
        if (window.MathJax) {
          // MathJax loaded
          MathJax.Hub.Config({
            TeX: {
              equationNumbers: {
                autoNumber: "AMS",
                useLabelIds: true
              }
            },
            tex2jax: {
              inlineMath: [ ['$','$'], ["\\(","\\)"] ],
              displayMath: [ ['$$','$$'], ["\\[","\\]"] ],
              processEscapes: true,
              processEnvironments: true
            },
            displayAlign: 'center',
            "HTML-CSS": {
              styles: {'.MathJax_Display': {"margin": 0}},
              linebreaks: { automatic: true }
            }
          });
          MathJax.Hub.Queue(["Typeset", MathJax.Hub]);
        }
      }
      init_mathjax();
    </script>
  

<script type="text/javascript">
/* <![CDATA[ */
var _gaq = _gaq || [];
_gaq.push(['_setAccount', 'UA-52617120-5']);
_gaq.push(['_trackPageview']);

(function() {
var ga = document.createElement('script'); ga.type = 'text/javascript'; ga.async = true;
ga.src = ('https:' == document.location.protocol ? 'https://ssl' : 'http://www') + '.google-analytics.com/ga.js';
var s = document.getElementsByTagName('script')[0]; s.parentNode.insertBefore(ga, s);
})();

(function(b){(function(a){"__CF"in b&&"DJS"in b.__CF?b.__CF.DJS.push(a):"addEventListener"in b?b.addEventListener("load",a,!1):b.attachEvent("onload",a)})(function(){"FB"in b&&"Event"in FB&&"subscribe"in FB.Event&&(FB.Event.subscribe("edge.create",function(a){_gaq.push(["_trackSocial","facebook","like",a])}),FB.Event.subscribe("edge.remove",function(a){_gaq.push(["_trackSocial","facebook","unlike",a])}),FB.Event.subscribe("message.send",function(a){_gaq.push(["_trackSocial","facebook","send",a])}));"twttr"in b&&"events"in twttr&&"bind"in twttr.events&&twttr.events.bind("tweet",function(a){if(a){var b;if(a.target&&a.target.nodeName=="IFRAME")a:{if(a=a.target.src){a=a.split("#")[0].match(/[^?=&]+=([^&]*)?/g);b=0;for(var c;c=a[b];++b)if(c.indexOf("url")===0){b=unescape(c.split("=")[1]);break a}}b=void 0}_gaq.push(["_trackSocial","twitter","tweet",b])}})})})(window);
/* ]]> */
</script>
</head>

<body class="nbviewer">

  <!-- These are loaded at the top of the body so they are available to
       notebook cells when they are loaded below. -->
  <script src="/static/components/jquery/dist/jquery.min.js"></script>
  <script src="/static/components/requirejs/require.js"></script>
  <script src="/static/components/moment/min/moment.min.js"></script>

<!-- Navbar
================================================== -->
  <nav id="menubar" class="navbar navbar-default navbar-fixed-top" data-spy="affix">
    <div class="container">
      <div class="navbar-header">
        <button type="button" class="navbar-toggle collapsed" data-toggle="collapse" data-target=".navbar-collapse">
          <span class="sr-only">Toggle navigation</span>
          <i class="fa fa-bars"></i>
        </button>
        <a class="navbar-brand" href="/">
          <img src="/static/img/nav_logo.svg" width="159"/>
        </a>
      </div>

      <div class="collapse navbar-collapse">
        <ul class="nav navbar-nav navbar-right">
          <li>
            <a class="active" href="http://jupyter.org">JUPYTER</a>
          </li>
          <li>
    <a href="/faq" title="FAQ" >
      
        <span>FAQ</span>
      
    </a>
  </li>

          
  
    
  
    
      
        <li>
    <a href="/format/script/urls/dl.dropbox.com/s/p41a0j2qxiql5us/DAMLASB-HW1-Problems-Template.ipynb" title="View as Code" >
      <span class="fa fa- fa-2x menu-icon"></span>
      <span class="menu-text">View as Code</span>
    </a>
  </li>
      
    
  

  
    <li>
    <a href="#" title="Python [default] Kernel" >
      <span class="fa fa-server fa-2x menu-icon"></span>
      <span class="menu-text">Python [default] Kernel</span>
    </a>
  </li>
  

  

  <li>
    <a href="https://dl.dropbox.com/s/p41a0j2qxiql5us/DAMLASB-HW1-Problems-Template.ipynb" title="Download Notebook" download>
      <span class="fa fa-download fa-2x menu-icon"></span>
      <span class="menu-text">Download Notebook</span>
    </a>
  </li>

        </ul>
      </div><!-- /.navbar-collapse -->
      
      
    </div>
  </nav>

  <div class="container container-main">
    
  
  <div id="notebook">
    <div id="notebook-container">
      
<div class="cell border-box-sizing text_cell rendered">
<div class="prompt input_prompt">
</div>
<div class="inner_cell">
<div class="text_cell_render border-box-sizing rendered_html">
<h1 id="DAMLAS---Machine-Learning-At-Scale">DAMLAS - Machine Learning At Scale<a class="anchor-link" href="#DAMLAS---Machine-Learning-At-Scale">&#182;</a></h1><h2 id="Assignment---HW1">Assignment - HW1<a class="anchor-link" href="#Assignment---HW1">&#182;</a></h2><p>Data Analytics and Machine Learning at Scale
Target, Bangalore</p>
<hr>
<p><strong>Name:</strong>  <em>Your Name Goes Here</em><br>
<strong>Class:</strong> DAMLAS (Section <em>Your Section Goes Here</em>, e.g., Fall 2016)<br>
<strong>Email:</strong>  <em>Your Target Email User Goes Here</em>@Target.com<br>
<strong>Week:</strong>   01</p>

</div>
</div>
</div>
<div class="cell border-box-sizing text_cell rendered">
<div class="prompt input_prompt">
</div>
<div class="inner_cell">
<div class="text_cell_render border-box-sizing rendered_html">
<h1 id="Table-of-Contents-">Table of Contents <a name="TOC" /><a class="anchor-link" href="#Table-of-Contents-">&#182;</a></h1><ol>
<li><a href="#1">HW Introduction</a>   </li>
<li><a href="#2">HW References</a></li>
<li><a href="#3">HW  Problems</a><br>
1.0.  <a href="#1.1">HW1.1</a><br>
1.2.  <a href="#1.2">HW1.2</a><br>
1.3.  <a href="#1.3">HW1.3</a><br>
1.4.  <a href="#1.4">HW1.4</a>    </li>
</ol>

</div>
</div>
</div>
<div class="cell border-box-sizing text_cell rendered">
<div class="prompt input_prompt">
</div>
<div class="inner_cell">
<div class="text_cell_render border-box-sizing rendered_html">
<p><a name="1"></p>
<h1 id="1-Instructions">1 Instructions<a class="anchor-link" href="#1-Instructions">&#182;</a></h1><p><a href="#TOC">Back to Table of Contents</a></p>
<ul>
<li>Homework submissions are due by Tuesday, 08/30/2016 at 11:30AM.</li>
</ul>
<ul>
<li><p>Prepare a single Jupyter notebook (not a requirment), please include questions, and question numbers in the questions and in the responses.
Submit your homework notebook via the following form:</p>
<ul>
<li><a href="http://goo.gl/forms/er3OFr5eCMWDngB72">Submission Link - Google Form</a></li>
</ul>
</li>
</ul>
<h3 id="Documents:">Documents:<a class="anchor-link" href="#Documents:">&#182;</a></h3><ul>
<li>IPython Notebook, published and viewable online.</li>
<li>PDF export of IPython Notebook.</li>
</ul>
<p><a name="2"></p>
<h1 id="2-Useful-References">2 Useful References<a class="anchor-link" href="#2-Useful-References">&#182;</a></h1><p><a href="#TOC">Back to Table of Contents</a></p>
<ul>
<li><a href="https://www.dropbox.com/s/8gko9uuwfgnwit4/Python-For-Data-Science-Review-2016-08-29.pdf?dl=0">Slides from lecture: Python Review for Data Scientists + Python review</a></li>
<li><a href="https://www.dropbox.com/s/7z6dnlam76irqbo/Chp3-Visualizing-Data-via-matplotlib.ipynb?dl=0">Word Count example using basic Python</a></li>
<li><a href="http://openbookproject.net/thinkcs/python/english3e/dictionaries.html">Everything you want to know about dictionaries in Python</a></li>
</ul>
<hr>

</div>
</div>
</div>
<div class="cell border-box-sizing text_cell rendered">
<div class="prompt input_prompt">
</div>
<div class="inner_cell">
<div class="text_cell_render border-box-sizing rendered_html">
<h1 id="3.--HW1--">3.  HW1  <a name="3" /><a class="anchor-link" href="#3.--HW1--">&#182;</a></h1><h2 id="Back-to-Table-of-Contents"><a href="#TOC">Back to Table of Contents</a><a class="anchor-link" href="#Back-to-Table-of-Contents">&#182;</a></h2>
</div>
</div>
</div>
<div class="cell border-box-sizing text_cell rendered">
<div class="prompt input_prompt">
</div>
<div class="inner_cell">
<div class="text_cell_render border-box-sizing rendered_html">
<h2 id="3.--HW1.1--">3.  HW1.1  <a name="1.1" /><a class="anchor-link" href="#3.--HW1.1--">&#182;</a></h2><p><a href="#TOC">Back to Table of Contents</a></p>

</div>
</div>
</div>
<div class="cell border-box-sizing text_cell rendered">
<div class="prompt input_prompt">
</div>
<div class="inner_cell">
<div class="text_cell_render border-box-sizing rendered_html">
<ul>
<li><a href="http://openbookproject.net/thinkcs/python/english3e/dictionaries.html">Reference: Everything you want to know about dictionaries in Python</a></li>
</ul>

</div>
</div>
</div>
<div class="cell border-box-sizing text_cell rendered">
<div class="prompt input_prompt">
</div>
<div class="inner_cell">
<div class="text_cell_render border-box-sizing rendered_html">
<p><strong>Description</strong>
Write a program that reads a string and returns a table of the letters of the alphabet in alphabetical order which occur in the string together with the number of times each letter occurs. Case should be ignored. A sample output of the program when the user enters the data “ThiS is String with Upper and lower case Letters”, would look this this:</p>

</div>
</div>
</div>a  2
c  1
d  1
e  5
g  1
h  2
i  4
l  2
n  2
o  1
p  2
r  4
s  5
t  5
u  1
w  2
<div class="cell border-box-sizing code_cell rendered">
<div class="input">
<div class="prompt input_prompt">In&nbsp;[2]:</div>
<div class="inner_cell">
    <div class="input_area">
<div class=" highlight hl-ipython2"><pre><span></span><span class="c1"># check which directory we are in</span>
<span class="o">!</span>pwd
</pre></div>

</div>
</div>
</div>

<div class="output_wrapper">
<div class="output">


<div class="output_area"><div class="prompt"></div>
<div class="output_subarea output_stream output_stdout output_text">
<pre>/Users/jshanahan/Dropbox/Projects/Target-2016-04/Classes-India-2016-08-29/Lecture02-Python-Review/Notebooks/Solution
</pre>
</div>
</div>

</div>
</div>

</div>
<div class="cell border-box-sizing code_cell rendered">
<div class="input">
<div class="prompt input_prompt">In&nbsp;[3]:</div>
<div class="inner_cell">
    <div class="input_area">
<div class=" highlight hl-ipython2"><pre><span></span><span class="c1">#change directory</span>
<span class="o">%</span><span class="k">cd</span> /Users/jshanahan/Dropbox/Projects/Target-2016-04/Classes-India-2016-08-29/Lecture02-Python-Review/Notebooks/Solution
</pre></div>

</div>
</div>
</div>

<div class="output_wrapper">
<div class="output">


<div class="output_area"><div class="prompt"></div>
<div class="output_subarea output_stream output_stdout output_text">
<pre>/Users/jshanahan/Dropbox/Projects/Target-2016-04/Classes-India-2016-08-29/Lecture02-Python-Review/Notebooks/Solution
</pre>
</div>
</div>

</div>
</div>

</div>
<div class="cell border-box-sizing code_cell rendered">
<div class="input">
<div class="prompt input_prompt">In&nbsp;[4]:</div>
<div class="inner_cell">
    <div class="input_area">
<div class=" highlight hl-ipython2"><pre><span></span><span class="c1">#mkdir a sub-directory for Homework</span>
<span class="o">!</span>mkdir HW1
<span class="c1">#Change to subdirectory</span>
<span class="o">%</span><span class="k">cd</span> HW1
</pre></div>

</div>
</div>
</div>

<div class="output_wrapper">
<div class="output">


<div class="output_area"><div class="prompt"></div>
<div class="output_subarea output_stream output_stdout output_text">
<pre>mkdir: HW1: File exists
/Users/jshanahan/Dropbox/Projects/Target-2016-04/Classes-India-2016-08-29/Lecture02-Python-Review/Notebooks/Solution/HW1
</pre>
</div>
</div>

</div>
</div>

</div>
<div class="cell border-box-sizing code_cell rendered">
<div class="input">
<div class="prompt input_prompt">In&nbsp;[14]:</div>
<div class="inner_cell">
    <div class="input_area">
<div class=" highlight hl-ipython2"><pre><span></span><span class="k">def</span> <span class="nf">character_count</span><span class="p">(</span><span class="n">sampletext</span><span class="p">):</span>
    <span class="n">sampletext</span> <span class="o">=</span> <span class="n">sampletext</span><span class="o">.</span><span class="n">lower</span><span class="p">()</span>
    <span class="o">.......</span>
<span class="n">character_count</span><span class="p">(</span><span class="s1">&#39;ThiS is String with Upper and lower case Letters&#39;</span><span class="p">)</span>
</pre></div>

</div>
</div>
</div>

<div class="output_wrapper">
<div class="output">


<div class="output_area"><div class="prompt"></div>
<div class="output_subarea output_stream output_stdout output_text">
<pre>a 2
c 1
d 1
e 5
g 1
h 2
i 4
l 2
n 2
o 1
p 2
r 4
s 5
t 5
u 1
w 2
</pre>
</div>
</div>

</div>
</div>

</div>
<div class="cell border-box-sizing text_cell rendered">
<div class="prompt input_prompt">
</div>
<div class="inner_cell">
<div class="text_cell_render border-box-sizing rendered_html">
<h2 id="3.--HW1.2--">3.  HW1.2  <a name="1.2" /><a class="anchor-link" href="#3.--HW1.2--">&#182;</a></h2><p><a href="#TOC">Back to Table of Contents</a>
Give the Python interpreter’s response to each of the following from a continuous interpreter session:</p>

</div>
</div>
</div>
<div class="cell border-box-sizing code_cell rendered">
<div class="input">
<div class="prompt input_prompt">In&nbsp;[16]:</div>
<div class="inner_cell">
    <div class="input_area">
<div class=" highlight hl-ipython2"><pre><span></span><span class="n">d</span> <span class="o">=</span> <span class="p">{</span><span class="s2">&quot;apples&quot;</span><span class="p">:</span> <span class="mi">15</span><span class="p">,</span> <span class="s2">&quot;bananas&quot;</span><span class="p">:</span> <span class="mi">35</span><span class="p">,</span> <span class="s2">&quot;grapes&quot;</span><span class="p">:</span> <span class="mi">12</span><span class="p">}</span>
<span class="n">d</span><span class="p">[</span><span class="s2">&quot;bananas&quot;</span><span class="p">]</span>
</pre></div>

</div>
</div>
</div>

<div class="output_wrapper">
<div class="output">


<div class="output_area"><div class="prompt output_prompt">Out[16]:</div>


<div class="output_text output_subarea output_execute_result">
<pre>35</pre>
</div>

</div>

</div>
</div>

</div>
<div class="cell border-box-sizing code_cell rendered">
<div class="input">
<div class="prompt input_prompt">In&nbsp;[17]:</div>
<div class="inner_cell">
    <div class="input_area">
<div class=" highlight hl-ipython2"><pre><span></span><span class="n">d</span><span class="p">[</span><span class="s2">&quot;oranges&quot;</span><span class="p">]</span> <span class="o">=</span> <span class="mi">20</span>
<span class="nb">len</span><span class="p">(</span><span class="n">d</span><span class="p">)</span>
</pre></div>

</div>
</div>
</div>

<div class="output_wrapper">
<div class="output">


<div class="output_area"><div class="prompt output_prompt">Out[17]:</div>


<div class="output_text output_subarea output_execute_result">
<pre>4</pre>
</div>

</div>

</div>
</div>

</div>
<div class="cell border-box-sizing code_cell rendered">
<div class="input">
<div class="prompt input_prompt">In&nbsp;[18]:</div>
<div class="inner_cell">
    <div class="input_area">
<div class=" highlight hl-ipython2"><pre><span></span><span class="s2">&quot;grapes&quot;</span> <span class="ow">in</span> <span class="n">d</span>
</pre></div>

</div>
</div>
</div>

<div class="output_wrapper">
<div class="output">


<div class="output_area"><div class="prompt output_prompt">Out[18]:</div>


<div class="output_text output_subarea output_execute_result">
<pre>True</pre>
</div>

</div>

</div>
</div>

</div>
<div class="cell border-box-sizing code_cell rendered">
<div class="input">
<div class="prompt input_prompt">In&nbsp;[19]:</div>
<div class="inner_cell">
    <div class="input_area">
<div class=" highlight hl-ipython2"><pre><span></span><span class="n">d</span><span class="p">[</span><span class="s2">&quot;pears&quot;</span><span class="p">]</span>
</pre></div>

</div>
</div>
</div>

<div class="output_wrapper">
<div class="output">


<div class="output_area"><div class="prompt"></div>
<div class="output_subarea output_text output_error">
<pre>
<span class="ansi-red-fg">---------------------------------------------------------------------------</span>
<span class="ansi-red-fg">KeyError</span>                                  Traceback (most recent call last)
<span class="ansi-green-fg">&lt;ipython-input-19-fd5e266bd276&gt;</span> in <span class="ansi-cyan-fg">&lt;module&gt;</span><span class="ansi-blue-fg">()</span>
<span class="ansi-green-fg">----&gt; 1</span><span class="ansi-red-fg"> </span>d<span class="ansi-blue-fg">[</span><span class="ansi-blue-fg">&#34;pears&#34;</span><span class="ansi-blue-fg">]</span>

<span class="ansi-red-fg">KeyError</span>: &#39;pears&#39;</pre>
</div>
</div>

</div>
</div>

</div>
<div class="cell border-box-sizing code_cell rendered">
<div class="input">
<div class="prompt input_prompt">In&nbsp;[20]:</div>
<div class="inner_cell">
    <div class="input_area">
<div class=" highlight hl-ipython2"><pre><span></span><span class="n">d</span><span class="o">.</span><span class="n">get</span><span class="p">(</span><span class="s2">&quot;pears&quot;</span><span class="p">,</span> <span class="mi">0</span><span class="p">)</span>
</pre></div>

</div>
</div>
</div>

<div class="output_wrapper">
<div class="output">


<div class="output_area"><div class="prompt output_prompt">Out[20]:</div>


<div class="output_text output_subarea output_execute_result">
<pre>0</pre>
</div>

</div>

</div>
</div>

</div>
<div class="cell border-box-sizing code_cell rendered">
<div class="input">
<div class="prompt input_prompt">In&nbsp;[21]:</div>
<div class="inner_cell">
    <div class="input_area">
<div class=" highlight hl-ipython2"><pre><span></span><span class="n">fruits</span> <span class="o">=</span> <span class="nb">list</span><span class="p">(</span><span class="n">d</span><span class="o">.</span><span class="n">keys</span><span class="p">())</span>
<span class="n">fruits</span><span class="o">.</span><span class="n">sort</span><span class="p">()</span>
<span class="k">print</span><span class="p">(</span><span class="n">fruits</span><span class="p">)</span>
</pre></div>

</div>
</div>
</div>

<div class="output_wrapper">
<div class="output">


<div class="output_area"><div class="prompt"></div>
<div class="output_subarea output_stream output_stdout output_text">
<pre>[&#39;apples&#39;, &#39;bananas&#39;, &#39;grapes&#39;, &#39;oranges&#39;]
</pre>
</div>
</div>

</div>
</div>

</div>
<div class="cell border-box-sizing code_cell rendered">
<div class="input">
<div class="prompt input_prompt">In&nbsp;[12]:</div>
<div class="inner_cell">
    <div class="input_area">
<div class=" highlight hl-ipython2"><pre><span></span><span class="k">del</span> <span class="n">d</span><span class="p">[</span><span class="s2">&quot;apples&quot;</span><span class="p">]</span>
<span class="s2">&quot;apples&quot;</span> <span class="ow">in</span> <span class="n">d</span>
</pre></div>

</div>
</div>
</div>

<div class="output_wrapper">
<div class="output">


<div class="output_area"><div class="prompt"></div>
<div class="output_subarea output_stream output_stdout output_text">
<pre>[&#39;apples&#39;, &#39;bananas&#39;, &#39;grapes&#39;, &#39;oranges&#39;]
</pre>
</div>
</div>

<div class="output_area"><div class="prompt output_prompt">Out[12]:</div>


<div class="output_text output_subarea output_execute_result">
<pre>False</pre>
</div>

</div>

</div>
</div>

</div>
<div class="cell border-box-sizing text_cell rendered">
<div class="prompt input_prompt">
</div>
<div class="inner_cell">
<div class="text_cell_render border-box-sizing rendered_html">
<p><strong>Be sure you understand why you get each result. Then apply what you have learned to fill in the body of the function below:</strong></p>

</div>
</div>
</div>
<div class="cell border-box-sizing code_cell rendered">
<div class="input">
<div class="prompt input_prompt">In&nbsp;[22]:</div>
<div class="inner_cell">
    <div class="input_area">
<div class=" highlight hl-ipython2"><pre><span></span><span class="k">def</span> <span class="nf">add_fruit</span><span class="p">(</span><span class="n">inventory</span><span class="p">,</span> <span class="n">fruit</span><span class="p">,</span> <span class="n">quantity</span><span class="o">=</span><span class="mi">0</span><span class="p">):</span>
    <span class="n">inventory</span><span class="p">[</span><span class="n">fruit</span><span class="p">]</span> <span class="o">=</span> <span class="n">quantity</span>
    <span class="k">return</span>
    
<span class="k">def</span> <span class="nf">test</span><span class="p">(</span><span class="n">string</span><span class="p">):</span>
    <span class="n">x</span> <span class="o">=</span> <span class="n">string</span>
    <span class="k">print</span><span class="p">(</span><span class="n">x</span><span class="p">)</span>
    <span class="k">return</span>

<span class="n">new_inventory</span> <span class="o">=</span> <span class="p">{}</span>
<span class="n">add_fruit</span><span class="p">(</span><span class="n">new_inventory</span><span class="p">,</span> <span class="s2">&quot;strawberries&quot;</span><span class="p">,</span> <span class="mi">10</span><span class="p">)</span>
<span class="n">test</span><span class="p">(</span><span class="s2">&quot;strawberries&quot;</span> <span class="ow">in</span> <span class="n">new_inventory</span><span class="p">)</span>
</pre></div>

</div>
</div>
</div>

<div class="output_wrapper">
<div class="output">


<div class="output_area"><div class="prompt"></div>
<div class="output_subarea output_stream output_stdout output_text">
<pre>True
</pre>
</div>
</div>

</div>
</div>

</div>
<div class="cell border-box-sizing code_cell rendered">
<div class="input">
<div class="prompt input_prompt">In&nbsp;[23]:</div>
<div class="inner_cell">
    <div class="input_area">
<div class=" highlight hl-ipython2"><pre><span></span><span class="n">test</span><span class="p">(</span><span class="n">new_inventory</span><span class="p">[</span><span class="s2">&quot;strawberries&quot;</span><span class="p">]</span> <span class="o">==</span> <span class="mi">10</span><span class="p">)</span>
</pre></div>

</div>
</div>
</div>

<div class="output_wrapper">
<div class="output">


<div class="output_area"><div class="prompt"></div>
<div class="output_subarea output_stream output_stdout output_text">
<pre>True
</pre>
</div>
</div>

</div>
</div>

</div>
<div class="cell border-box-sizing code_cell rendered">
<div class="input">
<div class="prompt input_prompt">In&nbsp;[26]:</div>
<div class="inner_cell">
    <div class="input_area">
<div class=" highlight hl-ipython2"><pre><span></span><span class="n">add_fruit</span><span class="p">(</span><span class="n">new_inventory</span><span class="p">,</span> <span class="s2">&quot;strawberries&quot;</span><span class="p">,</span> <span class="mi">25</span><span class="p">)</span>
<span class="n">test</span><span class="p">(</span><span class="n">new_inventory</span><span class="p">[</span><span class="s2">&quot;strawberries&quot;</span><span class="p">]</span> <span class="o">==</span> <span class="mi">35</span><span class="p">)</span>
</pre></div>

</div>
</div>
</div>

<div class="output_wrapper">
<div class="output">


<div class="output_area"><div class="prompt"></div>
<div class="output_subarea output_stream output_stdout output_text">
<pre>False
</pre>
</div>
</div>

</div>
</div>

</div>
<div class="cell border-box-sizing text_cell rendered">
<div class="prompt input_prompt">
</div>
<div class="inner_cell">
<div class="text_cell_render border-box-sizing rendered_html">
<h2 id="3.--HW1.3--">3.  HW1.3  <a name="1.3" /><a class="anchor-link" href="#3.--HW1.3--">&#182;</a></h2><p><a href="#TOC">Back to Table of Contents</a></p>
<p>Write a program called alice_words.py that creates a text file named <strong>alice_words.txt</strong> containing an alphabetical listing of all the words, and the number of times each occurs, in the text version of Alice’s Adventures in Wonderland. (You can obtain a free plain text version of the book, along with many others, from <a href="http://www.gutenberg.org.">here</a> The first 10 lines of your output file should look something like this:</p>

</div>
</div>
</div>Word              Count
=======================
a                 631
a-piece           1
abide             1
able              1
about             94
above             3
absence           1
absurd            2
<div class="cell border-box-sizing text_cell rendered">
<div class="prompt input_prompt">
</div>
<div class="inner_cell">
<div class="text_cell_render border-box-sizing rendered_html">
<p>How many times does the word alice occur in the book?</p>

</div>
</div>
</div>
<div class="cell border-box-sizing code_cell rendered">
<div class="input">
<div class="prompt input_prompt">In&nbsp;[34]:</div>
<div class="inner_cell">
    <div class="input_area">
<div class=" highlight hl-ipython2"><pre><span></span><span class="o">!</span>curl <span class="s1">&#39;http://www.gutenberg.org/cache/epub/11/pg11.txt&#39;</span> -o alicesTExtFilename.txt
</pre></div>

</div>
</div>
</div>

<div class="output_wrapper">
<div class="output">


<div class="output_area"><div class="prompt"></div>
<div class="output_subarea output_stream output_stdout output_text">
<pre>  % Total    % Received % Xferd  Average Speed   Time    Time     Time  Current
                                 Dload  Upload   Total   Spent    Left  Speed
100  163k  100  163k    0     0  42241      0  0:00:03  0:00:03 --:--:-- 42238
</pre>
</div>
</div>

</div>
</div>

</div>
<div class="cell border-box-sizing code_cell rendered">
<div class="input">
<div class="prompt input_prompt">In&nbsp;[35]:</div>
<div class="inner_cell">
    <div class="input_area">
<div class=" highlight hl-ipython2"><pre><span></span><span class="o">!</span>head alicesTExtFilename.txt
</pre></div>

</div>
</div>
</div>

<div class="output_wrapper">
<div class="output">


<div class="output_area"><div class="prompt"></div>
<div class="output_subarea output_stream output_stdout output_text">
<pre>









</pre>
</div>
</div>

</div>
</div>

</div>
<div class="cell border-box-sizing text_cell rendered">
<div class="prompt input_prompt">
</div>
<div class="inner_cell">
<div class="text_cell_render border-box-sizing rendered_html">
<h3 id="defaultdict-for-word-counting">defaultdict for word counting<a class="anchor-link" href="#defaultdict-for-word-counting">&#182;</a></h3><p>One way to do word counting but not best. A defaultdict is like a regular dictionary, except that when you try to look up a key it doesn’t contain, it first adds a value for it using a zero-argument function you provided
when you created it. In order to use defaultdicts, you have to import them</p>

</div>
</div>
</div>
<div class="cell border-box-sizing code_cell rendered">
<div class="input">
<div class="prompt input_prompt">In&nbsp;[12]:</div>
<div class="inner_cell">
    <div class="input_area">
<div class=" highlight hl-ipython2"><pre><span></span><span class="c1">#Sort dictionary by key</span>
<span class="n">D1</span> <span class="o">=</span> <span class="p">{</span><span class="mi">2</span><span class="p">:</span><span class="mi">3</span><span class="p">,</span> <span class="mi">1</span><span class="p">:</span><span class="mi">89</span><span class="p">,</span> <span class="mi">4</span><span class="p">:</span><span class="mi">5</span><span class="p">,</span> <span class="mi">3</span><span class="p">:</span><span class="mi">0</span><span class="p">}</span>
<span class="k">for</span> <span class="n">key</span> <span class="ow">in</span> <span class="nb">sorted</span><span class="p">(</span><span class="n">D1</span><span class="p">):</span>
    <span class="k">print</span> <span class="p">(</span><span class="n">key</span><span class="p">,</span> <span class="n">D1</span><span class="p">[</span><span class="n">key</span><span class="p">])</span>
</pre></div>

</div>
</div>
</div>

<div class="output_wrapper">
<div class="output">


<div class="output_area"><div class="prompt"></div>
<div class="output_subarea output_stream output_stdout output_text">
<pre>(1, 89)
(2, 3)
(3, 0)
(4, 5)
</pre>
</div>
</div>

</div>
</div>

</div>
<div class="cell border-box-sizing code_cell rendered">
<div class="input">
<div class="prompt input_prompt">In&nbsp;[52]:</div>
<div class="inner_cell">
    <div class="input_area">
<div class=" highlight hl-ipython2"><pre><span></span><span class="kn">from</span> <span class="nn">collections</span> <span class="kn">import</span> <span class="n">defaultdict</span>
<span class="n">header</span> <span class="o">=</span> <span class="s2">&quot;&quot;&quot;Word              Count</span>
<span class="s2">=======================</span>
<span class="s2">&quot;&quot;&quot;</span>

<span class="k">def</span> <span class="nf">HW1_3</span><span class="p">(</span><span class="n">inputFilename</span><span class="p">,</span> <span class="n">outFilename</span><span class="p">):</span>
    <span class="o">.....</span>
    <span class="k">return</span><span class="p">(</span><span class="n">wordCounts</span><span class="p">)</span>

<span class="n">wordCounts</span> <span class="o">=</span> <span class="n">HW1_3</span><span class="p">(</span><span class="s2">&quot;alicesTExtFilename.txt&quot;</span><span class="p">,</span> <span class="s2">&quot;alice_words.txt&quot;</span><span class="p">)</span>
<span class="k">print</span> <span class="p">(</span><span class="s2">&quot;</span><span class="si">%s</span><span class="s2">	</span><span class="se">\t</span><span class="si">%s</span><span class="se">\n</span><span class="s2">&quot;</span> <span class="o">%</span><span class="p">(</span><span class="s2">&quot;word count for alice is &quot;</span><span class="p">,</span> <span class="o">.....</span><span class="p">))</span> 
<span class="o">!</span>head <span class="s2">&quot;alice_words.txt&quot;</span>
</pre></div>

</div>
</div>
</div>

<div class="output_wrapper">
<div class="output">


<div class="output_area"><div class="prompt"></div>
<div class="output_subarea output_stream output_stdout output_text">
<pre>alice		155

Word              Count
=======================
			1
&#34;&#39;tis			1

i			1
&#34;come			1
&#34;coming			1
&#34;edwin			1
&#34;he&#39;s			1
</pre>
</div>
</div>

</div>
</div>

</div>
<div class="cell border-box-sizing text_cell rendered">
<div class="prompt input_prompt">
</div>
<div class="inner_cell">
<div class="text_cell_render border-box-sizing rendered_html">
<h1 id="Example-of-word-splitting">Example of word splitting<a class="anchor-link" href="#Example-of-word-splitting">&#182;</a></h1>
</div>
</div>
</div>
<div class="cell border-box-sizing code_cell rendered">
<div class="input">
<div class="prompt input_prompt">In&nbsp;[47]:</div>
<div class="inner_cell">
    <div class="input_area">
<div class=" highlight hl-ipython2"><pre><span></span><span class="c1">#predefined punctuation list  </span>
<span class="k">print</span> <span class="n">string</span><span class="o">.</span><span class="n">punctuation</span>
<span class="k">print</span> <span class="n">re</span><span class="o">.</span><span class="n">escape</span><span class="p">(</span><span class="n">string</span><span class="o">.</span><span class="n">punctuation</span><span class="p">)</span>
</pre></div>

</div>
</div>
</div>

<div class="output_wrapper">
<div class="output">


<div class="output_area"><div class="prompt"></div>
<div class="output_subarea output_stream output_stdout output_text">
<pre>!&#34;#$%&amp;&#39;()*+,-./:;&lt;=&gt;?@[\]^_`{|}~
\!\&#34;\#\$\%\&amp;\&#39;\(\)\*\+\,\-\.\/\:\;\&lt;\=\&gt;\?\@\[\\\]\^\_\`\{\|\}\~
</pre>
</div>
</div>

</div>
</div>

</div>
<div class="cell border-box-sizing code_cell rendered">
<div class="input">
<div class="prompt input_prompt">In&nbsp;[94]:</div>
<div class="inner_cell">
    <div class="input_area">
<div class=" highlight hl-ipython2"><pre><span></span><span class="kn">import</span> <span class="nn">sys</span><span class="o">,</span> <span class="nn">re</span><span class="o">,</span> <span class="nn">string</span>
<span class="c1"># define regex for punctuation removal</span>

<span class="c1">#return alphanumeric tokens</span>
<span class="k">def</span> <span class="nf">alphaNumericWordTokenizer</span><span class="p">(</span><span class="n">line</span><span class="p">):</span>
    <span class="c1">#preprocess the string; </span>
    <span class="c1">#  focus on alphanumeric token</span>
    <span class="c1">#  replace repeating spaces/tab with a single space</span>
    <span class="n">regex</span> <span class="o">=</span> <span class="n">re</span><span class="o">.</span><span class="n">compile</span><span class="p">(</span><span class="s1">&#39;[</span><span class="si">%s</span><span class="s1">]&#39;</span> <span class="o">%</span> <span class="n">re</span><span class="o">.</span><span class="n">escape</span><span class="p">(</span><span class="n">string</span><span class="o">.</span><span class="n">punctuation</span><span class="p">))</span>
    <span class="c1">#replace each punctuation character with a space</span>
    <span class="n">line</span> <span class="o">=</span> <span class="n">regex</span><span class="o">.</span><span class="n">sub</span><span class="p">(</span><span class="s1">&#39; &#39;</span><span class="p">,</span> <span class="n">line</span><span class="o">.</span><span class="n">lower</span><span class="p">())</span>  

    <span class="c1">#replace multiple spacees with a single space</span>
    <span class="n">line</span> <span class="o">=</span> <span class="n">re</span><span class="o">.</span><span class="n">sub</span><span class="p">(</span> <span class="s1">&#39;\s+&#39;</span><span class="p">,</span> <span class="s1">&#39; &#39;</span><span class="p">,</span> <span class="n">line</span><span class="p">)</span> 
    <span class="c1"># split the line into words</span>
    <span class="n">words</span> <span class="o">=</span> <span class="n">line</span><span class="o">.</span><span class="n">split</span><span class="p">(</span><span class="s2">&quot; &quot;</span><span class="p">)</span>
    <span class="k">return</span><span class="p">(</span><span class="n">words</span><span class="p">)</span>
            

<span class="n">line</span> <span class="o">=</span> <span class="s2">&quot;&quot;&quot; 0017.2000-01-17.beck	0	 global risk management operations	&quot; congratulations, sally!!!  kk  ----------------------forwarded by kathy kokas/corp/enron on 01/17/2000  08:08 pm---------------------------  from: rick causey 01/17/2000 06:04 pm  sent by: enron announcements  to: all enron worldwide  cc:  subject: global risk management operations  recognizing enron , s increasing worldwide presence in the wholesale energy  business and the need to insure outstanding internal controls for all of our  risk management activities, regardless of location, a global risk management  operations function has been created under the direction of sally w. beck,  vice president. in this role, sally will report to rick causey, executive  vice president and chief accounting officer.  sally , s responsibilities with regard to global risk management operations  will mirror those of other recently created enron global functions. in this  role, sally will work closely with all enron geographic regions and wholesale  companies to insure that each entity receives individualized regional support  while also focusing on the following global responsibilities:  1. enhance communication among risk management operations professionals.  2. assure the proliferation of best operational practices around the globe.  3. facilitate the allocation of human resources.  4. provide training for risk management operations personnel.  5. coordinate user requirements for shared operational systems.  6. oversee the creation of a global internal control audit plan for risk  management activities.  7. establish procedures for opening new risk management operations offices  and create key benchmarks for measuring on-going risk controls.  each regional operations team will continue its direct reporting relationship  within its business unit, and will collaborate with sally in the delivery of  these critical items. the houston-based risk management operations team under  sue frusco , s leadership, which currently supports risk management activities  for south america and australia, will also report directly to sally.  sally retains her role as vice president of energy operations for enron  north america, reporting to the ena office of the chairman. she has been in  her current role over energy operations since 1997, where she manages risk  consolidation and reporting, risk management administration, physical product  delivery, confirmations and cash management for ena , s physical commodity  trading, energy derivatives trading and financial products trading.  sally has been with enron since 1992, when she joined the company as a  manager in global credit. prior to joining enron, sally had four years  experience as a commercial banker and spent seven years as a registered  securities principal with a regional investment banking firm. she also owned  and managed a retail business for several years.  please join me in supporting sally in this additional coordination role for  global risk management operations.&quot;&quot;&quot;</span>
<span class="n">words</span> <span class="o">=</span> <span class="n">alphaNumericWordTokenizer</span><span class="p">(</span><span class="n">line</span><span class="p">)</span>
<span class="k">for</span> <span class="n">w</span> <span class="ow">in</span> <span class="n">words</span><span class="p">:</span> 
    <span class="k">if</span> <span class="n">w</span> <span class="ow">not</span> <span class="ow">in</span> <span class="p">[</span><span class="s2">&quot;enron&quot;</span><span class="p">]:</span>  <span class="c1">#skip the &quot;enron&quot; token </span>
        <span class="k">print</span> <span class="n">w</span><span class="p">,</span> <span class="s2">&quot;</span><span class="se">\t</span><span class="s2">&quot;</span><span class="p">,</span> <span class="mi">1</span> <span class="c1">#or yield(w, 1)</span>
</pre></div>

</div>
</div>
</div>

<div class="output_wrapper">
<div class="output">


<div class="output_area"><div class="prompt"></div>
<div class="output_subarea output_stream output_stdout output_text">
<pre> 	1
0017 	1
2000 	1
01 	1
17 	1
beck 	1
0 	1
global 	1
risk 	1
management 	1
operations 	1
congratulations 	1
sally 	1
kk 	1
forwarded 	1
by 	1
kathy 	1
kokas 	1
corp 	1
on 	1
01 	1
17 	1
2000 	1
08 	1
08 	1
pm 	1
from 	1
rick 	1
causey 	1
01 	1
17 	1
2000 	1
06 	1
04 	1
pm 	1
sent 	1
by 	1
announcements 	1
to 	1
all 	1
worldwide 	1
cc 	1
subject 	1
global 	1
risk 	1
management 	1
operations 	1
recognizing 	1
 	1
s 	1
increasing 	1
worldwide 	1
presence 	1
in 	1
the 	1
wholesale 	1
energy 	1
business 	1
and 	1
the 	1
need 	1
to 	1
insure 	1
outstanding 	1
internal 	1
controls 	1
for 	1
all 	1
of 	1
our 	1
risk 	1
management 	1
activities 	1
regardless 	1
of 	1
location 	1
a 	1
global 	1
risk 	1
management 	1
operations 	1
function 	1
has 	1
been 	1
created 	1
under 	1
the 	1
direction 	1
of 	1
sally 	1
w 	1
beck 	1
vice 	1
president 	1
in 	1
this 	1
role 	1
sally 	1
will 	1
report 	1
to 	1
rick 	1
causey 	1
executive 	1
vice 	1
president 	1
and 	1
chief 	1
accounting 	1
officer 	1
sally 	1
 	1
s 	1
responsibilities 	1
with 	1
regard 	1
to 	1
global 	1
risk 	1
management 	1
operations 	1
will 	1
mirror 	1
those 	1
of 	1
other 	1
recently 	1
created 	1
global 	1
functions 	1
in 	1
this 	1
role 	1
sally 	1
will 	1
work 	1
closely 	1
with 	1
all 	1
geographic 	1
regions 	1
and 	1
wholesale 	1
companies 	1
to 	1
insure 	1
that 	1
each 	1
entity 	1
receives 	1
individualized 	1
regional 	1
support 	1
while 	1
also 	1
focusing 	1
on 	1
the 	1
following 	1
global 	1
responsibilities 	1
1 	1
enhance 	1
communication 	1
among 	1
risk 	1
management 	1
operations 	1
professionals 	1
2 	1
assure 	1
the 	1
proliferation 	1
of 	1
best 	1
operational 	1
practices 	1
around 	1
the 	1
globe 	1
3 	1
facilitate 	1
the 	1
allocation 	1
of 	1
human 	1
resources 	1
4 	1
provide 	1
training 	1
for 	1
risk 	1
management 	1
operations 	1
personnel 	1
5 	1
coordinate 	1
user 	1
requirements 	1
for 	1
shared 	1
operational 	1
systems 	1
6 	1
oversee 	1
the 	1
creation 	1
of 	1
a 	1
global 	1
internal 	1
control 	1
audit 	1
plan 	1
for 	1
risk 	1
management 	1
activities 	1
7 	1
establish 	1
procedures 	1
for 	1
opening 	1
new 	1
risk 	1
management 	1
operations 	1
offices 	1
and 	1
create 	1
key 	1
benchmarks 	1
for 	1
measuring 	1
on 	1
going 	1
risk 	1
controls 	1
each 	1
regional 	1
operations 	1
team 	1
will 	1
continue 	1
its 	1
direct 	1
reporting 	1
relationship 	1
within 	1
its 	1
business 	1
unit 	1
and 	1
will 	1
collaborate 	1
with 	1
sally 	1
in 	1
the 	1
delivery 	1
of 	1
these 	1
critical 	1
items 	1
the 	1
houston 	1
based 	1
risk 	1
management 	1
operations 	1
team 	1
under 	1
sue 	1
frusco 	1
 	1
s 	1
leadership 	1
which 	1
currently 	1
supports 	1
risk 	1
management 	1
activities 	1
for 	1
south 	1
america 	1
and 	1
australia 	1
will 	1
also 	1
report 	1
directly 	1
to 	1
sally 	1
sally 	1
retains 	1
her 	1
role 	1
as 	1
vice 	1
president 	1
of 	1
energy 	1
operations 	1
for 	1
north 	1
america 	1
reporting 	1
to 	1
the 	1
ena 	1
office 	1
of 	1
the 	1
chairman 	1
she 	1
has 	1
been 	1
in 	1
her 	1
current 	1
role 	1
over 	1
energy 	1
operations 	1
since 	1
1997 	1
where 	1
she 	1
manages 	1
risk 	1
consolidation 	1
and 	1
reporting 	1
risk 	1
management 	1
administration 	1
physical 	1
product 	1
delivery 	1
confirmations 	1
and 	1
cash 	1
management 	1
for 	1
ena 	1
 	1
s 	1
physical 	1
commodity 	1
trading 	1
energy 	1
derivatives 	1
trading 	1
and 	1
financial 	1
products 	1
trading 	1
sally 	1
has 	1
been 	1
with 	1
since 	1
1992 	1
when 	1
she 	1
joined 	1
the 	1
company 	1
as 	1
a 	1
manager 	1
in 	1
global 	1
credit 	1
prior 	1
to 	1
joining 	1
sally 	1
had 	1
four 	1
years 	1
experience 	1
as 	1
a 	1
commercial 	1
banker 	1
and 	1
spent 	1
seven 	1
years 	1
as 	1
a 	1
registered 	1
securities 	1
principal 	1
with 	1
a 	1
regional 	1
investment 	1
banking 	1
firm 	1
she 	1
also 	1
owned 	1
and 	1
managed 	1
a 	1
retail 	1
business 	1
for 	1
several 	1
years 	1
please 	1
join 	1
me 	1
in 	1
supporting 	1
sally 	1
in 	1
this 	1
additional 	1
coordination 	1
role 	1
for 	1
global 	1
risk 	1
management 	1
operations 	1
 	1
</pre>
</div>
</div>

</div>
</div>

</div>
<div class="cell border-box-sizing text_cell rendered">
<div class="prompt input_prompt">
</div>
<div class="inner_cell">
<div class="text_cell_render border-box-sizing rendered_html">
<p><strong> NOTE: We still get funky characters in the output</strong></p>

</div>
</div>
</div>recognizing 	1
0 	1
global 	1
 	1    #example of a funky character
<div class="cell border-box-sizing code_cell rendered">
<div class="input">
<div class="prompt input_prompt">In&nbsp;[61]:</div>
<div class="inner_cell">
    <div class="input_area">
<div class=" highlight hl-ipython2"><pre><span></span><span class="c1"># if we just want words then this will work</span>
<span class="n">re</span><span class="o">.</span><span class="n">findall</span><span class="p">(</span><span class="s1">r&#39;[a-z]+&#39;</span><span class="p">,</span> <span class="n">line</span><span class="o">.</span><span class="n">lower</span><span class="p">())</span>
</pre></div>

</div>
</div>
</div>

<div class="output_wrapper">
<div class="output">


<div class="output_area"><div class="prompt output_prompt">Out[61]:</div>


<div class="output_text output_subarea output_execute_result">
<pre>[&#39;beck&#39;,
 &#39;global&#39;,
 &#39;risk&#39;,
 &#39;management&#39;,
 &#39;operations&#39;,
 &#39;congratulations&#39;,
 &#39;sally&#39;,
 &#39;kk&#39;,
 &#39;forwarded&#39;,
 &#39;by&#39;,
 &#39;kathy&#39;,
 &#39;kokas&#39;,
 &#39;corp&#39;,
 &#39;enron&#39;,
 &#39;on&#39;,
 &#39;pm&#39;,
 &#39;from&#39;,
 &#39;rick&#39;,
 &#39;causey&#39;,
 &#39;pm&#39;,
 &#39;sent&#39;,
 &#39;by&#39;,
 &#39;enron&#39;,
 &#39;announcements&#39;,
 &#39;to&#39;,
 &#39;all&#39;,
 &#39;enron&#39;,
 &#39;worldwide&#39;,
 &#39;cc&#39;,
 &#39;subject&#39;,
 &#39;global&#39;,
 &#39;risk&#39;,
 &#39;management&#39;,
 &#39;operations&#39;,
 &#39;recognizing&#39;,
 &#39;enron&#39;,
 &#39;s&#39;,
 &#39;increasing&#39;,
 &#39;worldwide&#39;,
 &#39;presence&#39;,
 &#39;in&#39;,
 &#39;the&#39;,
 &#39;wholesale&#39;,
 &#39;energy&#39;,
 &#39;business&#39;,
 &#39;and&#39;,
 &#39;the&#39;,
 &#39;need&#39;,
 &#39;to&#39;,
 &#39;insure&#39;,
 &#39;outstanding&#39;,
 &#39;internal&#39;,
 &#39;controls&#39;,
 &#39;for&#39;,
 &#39;all&#39;,
 &#39;of&#39;,
 &#39;our&#39;,
 &#39;risk&#39;,
 &#39;management&#39;,
 &#39;activities&#39;,
 &#39;regardless&#39;,
 &#39;of&#39;,
 &#39;location&#39;,
 &#39;a&#39;,
 &#39;global&#39;,
 &#39;risk&#39;,
 &#39;management&#39;,
 &#39;operations&#39;,
 &#39;function&#39;,
 &#39;has&#39;,
 &#39;been&#39;,
 &#39;created&#39;,
 &#39;under&#39;,
 &#39;the&#39;,
 &#39;direction&#39;,
 &#39;of&#39;,
 &#39;sally&#39;,
 &#39;w&#39;,
 &#39;beck&#39;,
 &#39;vice&#39;,
 &#39;president&#39;,
 &#39;in&#39;,
 &#39;this&#39;,
 &#39;role&#39;,
 &#39;sally&#39;,
 &#39;will&#39;,
 &#39;report&#39;,
 &#39;to&#39;,
 &#39;rick&#39;,
 &#39;causey&#39;,
 &#39;executive&#39;,
 &#39;vice&#39;,
 &#39;president&#39;,
 &#39;and&#39;,
 &#39;chief&#39;,
 &#39;accounting&#39;,
 &#39;officer&#39;,
 &#39;sally&#39;,
 &#39;s&#39;,
 &#39;responsibilities&#39;,
 &#39;with&#39;,
 &#39;regard&#39;,
 &#39;to&#39;,
 &#39;global&#39;,
 &#39;risk&#39;,
 &#39;management&#39;,
 &#39;operations&#39;,
 &#39;will&#39;,
 &#39;mirror&#39;,
 &#39;those&#39;,
 &#39;of&#39;,
 &#39;other&#39;,
 &#39;recently&#39;,
 &#39;created&#39;,
 &#39;enron&#39;,
 &#39;global&#39;,
 &#39;functions&#39;,
 &#39;in&#39;,
 &#39;this&#39;,
 &#39;role&#39;,
 &#39;sally&#39;,
 &#39;will&#39;,
 &#39;work&#39;,
 &#39;closely&#39;,
 &#39;with&#39;,
 &#39;all&#39;,
 &#39;enron&#39;,
 &#39;geographic&#39;,
 &#39;regions&#39;,
 &#39;and&#39;,
 &#39;wholesale&#39;,
 &#39;companies&#39;,
 &#39;to&#39;,
 &#39;insure&#39;,
 &#39;that&#39;,
 &#39;each&#39;,
 &#39;entity&#39;,
 &#39;receives&#39;,
 &#39;individualized&#39;,
 &#39;regional&#39;,
 &#39;support&#39;,
 &#39;while&#39;,
 &#39;also&#39;,
 &#39;focusing&#39;,
 &#39;on&#39;,
 &#39;the&#39;,
 &#39;following&#39;,
 &#39;global&#39;,
 &#39;responsibilities&#39;,
 &#39;enhance&#39;,
 &#39;communication&#39;,
 &#39;among&#39;,
 &#39;risk&#39;,
 &#39;management&#39;,
 &#39;operations&#39;,
 &#39;professionals&#39;,
 &#39;assure&#39;,
 &#39;the&#39;,
 &#39;proliferation&#39;,
 &#39;of&#39;,
 &#39;best&#39;,
 &#39;operational&#39;,
 &#39;practices&#39;,
 &#39;around&#39;,
 &#39;the&#39;,
 &#39;globe&#39;,
 &#39;facilitate&#39;,
 &#39;the&#39;,
 &#39;allocation&#39;,
 &#39;of&#39;,
 &#39;human&#39;,
 &#39;resources&#39;,
 &#39;provide&#39;,
 &#39;training&#39;,
 &#39;for&#39;,
 &#39;risk&#39;,
 &#39;management&#39;,
 &#39;operations&#39;,
 &#39;personnel&#39;,
 &#39;coordinate&#39;,
 &#39;user&#39;,
 &#39;requirements&#39;,
 &#39;for&#39;,
 &#39;shared&#39;,
 &#39;operational&#39;,
 &#39;systems&#39;,
 &#39;oversee&#39;,
 &#39;the&#39;,
 &#39;creation&#39;,
 &#39;of&#39;,
 &#39;a&#39;,
 &#39;global&#39;,
 &#39;internal&#39;,
 &#39;control&#39;,
 &#39;audit&#39;,
 &#39;plan&#39;,
 &#39;for&#39;,
 &#39;risk&#39;,
 &#39;management&#39;,
 &#39;activities&#39;,
 &#39;establish&#39;,
 &#39;procedures&#39;,
 &#39;for&#39;,
 &#39;opening&#39;,
 &#39;new&#39;,
 &#39;risk&#39;,
 &#39;management&#39;,
 &#39;operations&#39;,
 &#39;offices&#39;,
 &#39;and&#39;,
 &#39;create&#39;,
 &#39;key&#39;,
 &#39;benchmarks&#39;,
 &#39;for&#39;,
 &#39;measuring&#39;,
 &#39;on&#39;,
 &#39;going&#39;,
 &#39;risk&#39;,
 &#39;controls&#39;,
 &#39;each&#39;,
 &#39;regional&#39;,
 &#39;operations&#39;,
 &#39;team&#39;,
 &#39;will&#39;,
 &#39;continue&#39;,
 &#39;its&#39;,
 &#39;direct&#39;,
 &#39;reporting&#39;,
 &#39;relationship&#39;,
 &#39;within&#39;,
 &#39;its&#39;,
 &#39;business&#39;,
 &#39;unit&#39;,
 &#39;and&#39;,
 &#39;will&#39;,
 &#39;collaborate&#39;,
 &#39;with&#39;,
 &#39;sally&#39;,
 &#39;in&#39;,
 &#39;the&#39;,
 &#39;delivery&#39;,
 &#39;of&#39;,
 &#39;these&#39;,
 &#39;critical&#39;,
 &#39;items&#39;,
 &#39;the&#39;,
 &#39;houston&#39;,
 &#39;based&#39;,
 &#39;risk&#39;,
 &#39;management&#39;,
 &#39;operations&#39;,
 &#39;team&#39;,
 &#39;under&#39;,
 &#39;sue&#39;,
 &#39;frusco&#39;,
 &#39;s&#39;,
 &#39;leadership&#39;,
 &#39;which&#39;,
 &#39;currently&#39;,
 &#39;supports&#39;,
 &#39;risk&#39;,
 &#39;management&#39;,
 &#39;activities&#39;,
 &#39;for&#39;,
 &#39;south&#39;,
 &#39;america&#39;,
 &#39;and&#39;,
 &#39;australia&#39;,
 &#39;will&#39;,
 &#39;also&#39;,
 &#39;report&#39;,
 &#39;directly&#39;,
 &#39;to&#39;,
 &#39;sally&#39;,
 &#39;sally&#39;,
 &#39;retains&#39;,
 &#39;her&#39;,
 &#39;role&#39;,
 &#39;as&#39;,
 &#39;vice&#39;,
 &#39;president&#39;,
 &#39;of&#39;,
 &#39;energy&#39;,
 &#39;operations&#39;,
 &#39;for&#39;,
 &#39;enron&#39;,
 &#39;north&#39;,
 &#39;america&#39;,
 &#39;reporting&#39;,
 &#39;to&#39;,
 &#39;the&#39;,
 &#39;ena&#39;,
 &#39;office&#39;,
 &#39;of&#39;,
 &#39;the&#39;,
 &#39;chairman&#39;,
 &#39;she&#39;,
 &#39;has&#39;,
 &#39;been&#39;,
 &#39;in&#39;,
 &#39;her&#39;,
 &#39;current&#39;,
 &#39;role&#39;,
 &#39;over&#39;,
 &#39;energy&#39;,
 &#39;operations&#39;,
 &#39;since&#39;,
 &#39;where&#39;,
 &#39;she&#39;,
 &#39;manages&#39;,
 &#39;risk&#39;,
 &#39;consolidation&#39;,
 &#39;and&#39;,
 &#39;reporting&#39;,
 &#39;risk&#39;,
 &#39;management&#39;,
 &#39;administration&#39;,
 &#39;physical&#39;,
 &#39;product&#39;,
 &#39;delivery&#39;,
 &#39;confirmations&#39;,
 &#39;and&#39;,
 &#39;cash&#39;,
 &#39;management&#39;,
 &#39;for&#39;,
 &#39;ena&#39;,
 &#39;s&#39;,
 &#39;physical&#39;,
 &#39;commodity&#39;,
 &#39;trading&#39;,
 &#39;energy&#39;,
 &#39;derivatives&#39;,
 &#39;trading&#39;,
 &#39;and&#39;,
 &#39;financial&#39;,
 &#39;products&#39;,
 &#39;trading&#39;,
 &#39;sally&#39;,
 &#39;has&#39;,
 &#39;been&#39;,
 &#39;with&#39;,
 &#39;enron&#39;,
 &#39;since&#39;,
 &#39;when&#39;,
 &#39;she&#39;,
 &#39;joined&#39;,
 &#39;the&#39;,
 &#39;company&#39;,
 &#39;as&#39;,
 &#39;a&#39;,
 &#39;manager&#39;,
 &#39;in&#39;,
 &#39;global&#39;,
 &#39;credit&#39;,
 &#39;prior&#39;,
 &#39;to&#39;,
 &#39;joining&#39;,
 &#39;enron&#39;,
 &#39;sally&#39;,
 &#39;had&#39;,
 &#39;four&#39;,
 &#39;years&#39;,
 &#39;experience&#39;,
 &#39;as&#39;,
 &#39;a&#39;,
 &#39;commercial&#39;,
 &#39;banker&#39;,
 &#39;and&#39;,
 &#39;spent&#39;,
 &#39;seven&#39;,
 &#39;years&#39;,
 &#39;as&#39;,
 &#39;a&#39;,
 &#39;registered&#39;,
 &#39;securities&#39;,
 &#39;principal&#39;,
 &#39;with&#39;,
 &#39;a&#39;,
 &#39;regional&#39;,
 &#39;investment&#39;,
 &#39;banking&#39;,
 &#39;firm&#39;,
 &#39;she&#39;,
 &#39;also&#39;,
 &#39;owned&#39;,
 &#39;and&#39;,
 &#39;managed&#39;,
 &#39;a&#39;,
 &#39;retail&#39;,
 &#39;business&#39;,
 &#39;for&#39;,
 &#39;several&#39;,
 &#39;years&#39;,
 &#39;please&#39;,
 &#39;join&#39;,
 &#39;me&#39;,
 &#39;in&#39;,
 &#39;supporting&#39;,
 &#39;sally&#39;,
 &#39;in&#39;,
 &#39;this&#39;,
 &#39;additional&#39;,
 &#39;coordination&#39;,
 &#39;role&#39;,
 &#39;for&#39;,
 &#39;global&#39;,
 &#39;risk&#39;,
 &#39;management&#39;,
 &#39;operations&#39;]</pre>
</div>

</div>

</div>
</div>

</div>
<div class="cell border-box-sizing text_cell rendered">
<div class="prompt input_prompt">
</div>
<div class="inner_cell">
<div class="text_cell_render border-box-sizing rendered_html">
<h2 id="3.--HW1.4--">3.  HW1.4  <a name="1.4" /><a class="anchor-link" href="#3.--HW1.4--">&#182;</a></h2><p><a href="#TOC">Back to Table of Contents</a></p>
<p>What is the longest word in Alice in Wonderland? How many characters does it have?</p>

</div>
</div>
</div>
<div class="cell border-box-sizing code_cell rendered">
<div class="input">
<div class="prompt input_prompt">In&nbsp;[139]:</div>
<div class="inner_cell">
    <div class="input_area">
<div class=" highlight hl-ipython2"><pre><span></span><span class="n">d</span> <span class="o">=</span> <span class="n">defaultdict</span><span class="p">(</span><span class="nb">int</span><span class="p">)</span>
<span class="k">for</span> <span class="n">w</span> <span class="ow">in</span> <span class="s2">&quot;hello 15 15 12 12 13 15&quot;</span><span class="o">.</span><span class="n">split</span><span class="p">():</span>
    <span class="n">d</span><span class="p">[</span><span class="n">w</span><span class="p">]</span> <span class="o">+=</span> <span class="mi">1</span>
<span class="k">for</span> <span class="n">w</span> <span class="ow">in</span> <span class="nb">sorted</span><span class="p">(</span><span class="n">d</span><span class="p">,</span> <span class="n">key</span><span class="o">=</span><span class="n">d</span><span class="o">.</span><span class="n">get</span><span class="p">,</span> <span class="n">reverse</span><span class="o">=</span><span class="bp">True</span><span class="p">):</span>
    <span class="k">print</span> <span class="n">w</span><span class="p">,</span> <span class="n">d</span><span class="p">[</span><span class="n">w</span><span class="p">]</span>
</pre></div>

</div>
</div>
</div>

<div class="output_wrapper">
<div class="output">


<div class="output_area"><div class="prompt"></div>
<div class="output_subarea output_stream output_stdout output_text">
<pre>15 3
12 2
13 1
hello 1
</pre>
</div>
</div>

</div>
</div>

</div>
<div class="cell border-box-sizing code_cell rendered">
<div class="input">
<div class="prompt input_prompt">In&nbsp;[&nbsp;]:</div>
<div class="inner_cell">
    <div class="input_area">
<div class=" highlight hl-ipython2"><pre><span></span> 
</pre></div>

</div>
</div>
</div>

</div>
    </div>
  </div>

  </div>


  
    <footer class="footer hidden-print">
      <div class="container">
        <div class="col-md-4">
          <p>
            This website does not host notebooks, it only renders notebooks
            available on other websites.
          </p>
        </div>

        <div class="col-md-4">
          <p>
            Delivered by <a href="http://www.fastly.com/">Fastly</a>,
            Rendered by <a href="https://developer.rackspace.com/?nbviewer=awesome">Rackspace</a>
          </p>
          <p>
            nbviewer GitHub <a href="https://github.com/jupyter/nbviewer">repository</a>.
          </p>
        </div>

        <div class="col-md-4">
          
  
            
              <p>
                nbviewer version:
                <a href="https://github.com/jupyter/nbviewer/commit/0bf9258c078c4b09eec914172d10524e644cdb4e">
                  0bf9258
                </a>
              </p>
            
          
  
  <p>
    nbconvert version: <a href="https://github.com/jupyter/nbconvert/releases/tag/4.2.0">
      4.2.0
    </a>
  </p>
  

          
  
  
  <p>
    Rendered
    <span class='date' data-date='Tue, 30 Aug 2016 05:52:15 UTC' title='Tue, 30 Aug 2016 05:52:15 UTC'>(Tue, 30 Aug 2016 05:52:15 UTC)</span>
  </p>
  

        </div>
      </div>
    </footer>
  

  <script src="/static/components/bootstrap/js/bootstrap.min.js"></script>
  <script src="/static/components/headroom.js/dist/headroom.min.js"></script>
  <script src="/static/components/headroom.js/dist/jQuery.headroom.min.js"></script>

  
  
  <script>
    $(function(){ $("#menubar").headroom({
      tolerance: 5,
      offset: 205,
      classes: {
        initial: "animated",
        pinned: "slideInDown",
        unpinned: "slideOutUp"
      }
    })});
  </script>


  <script>
    (function(i,s,o,g,r,a,m){i['GoogleAnalyticsObject']=r;i[r]=i[r]||function(){
      (i[r].q=i[r].q||[]).push(arguments)},i[r].l=1*new Date();a=s.createElement(o),
      m=s.getElementsByTagName(o)[0];a.async=1;a.src=g;m.parentNode.insertBefore(a,m)
    })(window,document,'script','//www.google-analytics.com/analytics.js','ga');
    ga('create', 'UA-38683231-2', 'auto');
    ga('send', 'pageview');
  </script>
  <script>
    require({
        paths: {
          moment: "/static/components/moment/min/moment.min.js"
        }
      }, ["moment"], function(moment){
      var date = $("footer .date"),
        m = moment(new Date(date.data('date'))),
        update = function(){ date.text(m.fromNow()); };
      setInterval(update, 61*1000);
      update();
      var w = $(window).scroll(function(event){
        $("body").toggleClass("scrolled", w.scrollTop() > 0);
      });
    });
  </script>
  <!--NEW RELIC Stop Perf Measurement-->
  
  <!--NEW RELIC End-->
</body>
</html>