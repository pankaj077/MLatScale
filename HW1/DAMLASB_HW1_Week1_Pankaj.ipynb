{
 "cells": [
  {
   "cell_type": "code",
   "execution_count": 3,
   "metadata": {
    "collapsed": true
   },
   "outputs": [],
   "source": [
    "import os\n",
    "os.chdir('/Users/z013sy0/Data science/Day 1/HW00')\n"
   ]
  },
  {
   "cell_type": "code",
   "execution_count": 4,
   "metadata": {
    "collapsed": false
   },
   "outputs": [
    {
     "name": "stdout",
     "output_type": "stream",
     "text": [
      "just 1\n",
      "is 3\n",
      "word. 1\n",
      "it 2\n",
      "file 1\n",
      "Test 1\n",
      "—-the 1\n",
      "file. 1\n",
      "Maybe 1\n",
      "test 3\n",
      "“”Hello 1\n",
      "hello. 1\n",
      "Is——test—the 1\n",
      "most 1\n",
      "‘all. 1\n",
      "a 2\n",
      "maybe! 1\n",
      "word 1\n",
      "lot. 1\n",
      "/This 1\n",
      "mentions 1\n",
      "or 1\n",
      "frequent 1\n"
     ]
    }
   ],
   "source": [
    "#Question 1\n",
    "filename = \"test.txt\"\n",
    "\n",
    "#All words- count\n",
    "wordcount={} \n",
    "with open(filename) as file:\n",
    "    for word in file.read().split():\n",
    "        if word not in wordcount:\n",
    "            wordcount[word] = 1\n",
    "        else:\n",
    "            wordcount[word] += 1\n",
    "\n",
    "for word in wordcount:\n",
    "    print word, wordcount[word]"
   ]
  },
  {
   "cell_type": "code",
   "execution_count": 5,
   "metadata": {
    "collapsed": false
   },
   "outputs": [
    {
     "name": "stdout",
     "output_type": "stream",
     "text": [
      "Test 1\n",
      "Is——test—the 1\n",
      "Maybe 1\n"
     ]
    }
   ],
   "source": [
    "#Just capital words- count\n",
    "capwordcount={} \n",
    "with open(filename) as file:\n",
    "    for word in file.read().split():\n",
    "        if word[0].isupper():\n",
    "            if word not in capwordcount:\n",
    "                capwordcount[word] = 1\n",
    "            else:\n",
    "                capwordcount[word] += 1\n",
    "        else:\n",
    "            continue\n",
    "\n",
    "for word in capwordcount:\n",
    "    print word, capwordcount[word]"
   ]
  },
  {
   "cell_type": "code",
   "execution_count": 6,
   "metadata": {
    "collapsed": false
   },
   "outputs": [
    {
     "name": "stdout",
     "output_type": "stream",
     "text": [
      "Enter line\n",
      "Balhaslkaf sdfasdf oiwruwoeiurw wjrkhwerkw\n",
      "a 4\n",
      "b 1\n",
      "d 2\n",
      "e 2\n",
      "f 3\n",
      "h 2\n",
      "i 2\n",
      "j 1\n",
      "k 3\n",
      "l 2\n",
      "o 2\n",
      "r 4\n",
      "s 3\n",
      "u 2\n",
      "w 6\n"
     ]
    }
   ],
   "source": [
    "#HW1.1\n",
    "#20.8.1\n",
    "letters='abcdefghijklmnopqrstuvwxyz'\n",
    "letters = list(letters)\n",
    "\n",
    "line = raw_input('Enter line\\n')\n",
    "line = line.lower()\n",
    "\n",
    "lettercount={}\n",
    "for word in line:\n",
    "    for letter in word:\n",
    "        if letter not in lettercount:\n",
    "            lettercount[letter]=1\n",
    "        else:\n",
    "            lettercount[letter] += 1\n",
    "\n",
    "for letter in letters:\n",
    "    if letter in lettercount:\n",
    "        print letter, lettercount[letter]\n"
   ]
  },
  {
   "cell_type": "code",
   "execution_count": 7,
   "metadata": {
    "collapsed": false
   },
   "outputs": [
    {
     "name": "stdout",
     "output_type": "stream",
     "text": [
      "['apples', 'bananas', 'grapes', 'oranges']\n"
     ]
    },
    {
     "data": {
      "text/plain": [
       "False"
      ]
     },
     "execution_count": 7,
     "metadata": {},
     "output_type": "execute_result"
    }
   ],
   "source": [
    "#HW1.2\n",
    "#20.8.2\n",
    "\n",
    "d = {\"apples\": 15, \"bananas\": 35, \"grapes\": 12}\n",
    "d[\"bananas\"]\n",
    "d[\"oranges\"] = 20\n",
    "len(d)\n",
    "\"grapes\" in d\n",
    "#d[\"pears\"]\n",
    "d.get(\"pears\", 0)\n",
    "fruits = list(d.keys())\n",
    "fruits.sort()\n",
    "print(fruits)\n",
    "del d[\"apples\"]\n",
    "\"apples\" in d"
   ]
  },
  {
   "cell_type": "code",
   "execution_count": 8,
   "metadata": {
    "collapsed": true
   },
   "outputs": [],
   "source": [
    "\n",
    "def add_fruit(inventory, fruit, quantity=0):  \n",
    "    if fruit not in inventory:\n",
    "        inventory[fruit] =  quantity \n",
    "    else:\n",
    "        inventory[fruit] +=  quantity \n",
    "    return inventory"
   ]
  },
  {
   "cell_type": "code",
   "execution_count": 9,
   "metadata": {
    "collapsed": false
   },
   "outputs": [
    {
     "name": "stdout",
     "output_type": "stream",
     "text": [
      "Yes\n",
      "\n",
      "Yes\n",
      "\n"
     ]
    }
   ],
   "source": [
    "\n",
    "new_inventory = {}\n",
    "add_fruit(new_inventory, \"strawberries\", 10)\n",
    "\n",
    "\"strawberries\" in new_inventory\n",
    "if new_inventory[\"strawberries\"] == 10:\n",
    "    print \"Yes\\n\"\n",
    "add_fruit(new_inventory, \"strawberries\", 25)\n",
    "if new_inventory[\"strawberries\"] == 35:\n",
    "    print \"Yes\\n\""
   ]
  },
  {
   "cell_type": "code",
   "execution_count": 18,
   "metadata": {
    "collapsed": false
   },
   "outputs": [
    {
     "name": "stdout",
     "output_type": "stream",
     "text": [
      "  % Total    % Received % Xferd  Average Speed   Time    Time     Time  Current\n",
      "                                 Dload  Upload   Total   Spent    Left  Speed\n",
      "100  163k  100  163k    0     0  77649      0  0:00:02  0:00:02 --:--:-- 77626\n"
     ]
    }
   ],
   "source": [
    "!curl 'http://www.gutenberg.org/cache/epub/11/pg11.txt' -o Alice.txt"
   ]
  },
  {
   "cell_type": "code",
   "execution_count": 19,
   "metadata": {
    "collapsed": true
   },
   "outputs": [],
   "source": [
    "#HW1.3\n",
    "#write a text file with word counts and find number of alice\n",
    "\n",
    "filename = \"Alice.txt\"\n",
    "import re\n",
    "\n",
    "wordcount={} \n",
    "with open(filename) as file:\n",
    "    for line in file:\n",
    "        clean_line = re.sub('\\W+', \" \",line )\n",
    "        clean_line = clean_line.lower()\n",
    "        words = clean_line.split()  \n",
    "        for word in words:\n",
    "            if word not in wordcount:\n",
    "                wordcount[word] = 1\n",
    "            else:\n",
    "                wordcount[word] += 1\n",
    "        \n",
    "\n",
    "wc_key = list(wordcount.keys())\n",
    "wc_key.sort()"
   ]
  },
  {
   "cell_type": "code",
   "execution_count": 20,
   "metadata": {
    "collapsed": false
   },
   "outputs": [
    {
     "name": "stdout",
     "output_type": "stream",
     "text": [
      "403\n"
     ]
    }
   ],
   "source": [
    "print wordcount[\"alice\"]"
   ]
  },
  {
   "cell_type": "code",
   "execution_count": 22,
   "metadata": {
    "collapsed": false
   },
   "outputs": [
    {
     "name": "stdout",
     "output_type": "stream",
     "text": [
      "unenforceability 16\n"
     ]
    }
   ],
   "source": [
    "#HW1.4\n",
    "longest_length = 0\n",
    "for word in wc_key:\n",
    "    if len(word)>longest_length:\n",
    "        longest_length = len(word)\n",
    "        longest_word = word\n",
    "    else:\n",
    "        continue\n",
    "\n",
    "print longest_word, longest_length"
   ]
  },
  {
   "cell_type": "code",
   "execution_count": null,
   "metadata": {
    "collapsed": true
   },
   "outputs": [],
   "source": []
  }
 ],
 "metadata": {
  "kernelspec": {
   "display_name": "Python 2",
   "language": "python",
   "name": "python2"
  },
  "language_info": {
   "codemirror_mode": {
    "name": "ipython",
    "version": 2
   },
   "file_extension": ".py",
   "mimetype": "text/x-python",
   "name": "python",
   "nbconvert_exporter": "python",
   "pygments_lexer": "ipython2",
   "version": "2.7.10"
  }
 },
 "nbformat": 4,
 "nbformat_minor": 0
}
